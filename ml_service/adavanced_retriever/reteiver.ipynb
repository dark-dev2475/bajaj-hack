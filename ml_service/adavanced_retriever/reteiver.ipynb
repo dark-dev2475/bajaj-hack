{
 "cells": [
  {
   "cell_type": "code",
   "execution_count": 4,
   "id": "ca4b6b1a",
   "metadata": {},
   "outputs": [
    {
     "name": "stdout",
     "output_type": "stream",
     "text": [
      "✅ Necessary libraries for the Gemini API setup have been installed.\n"
     ]
    }
   ],
   "source": [
    "\n",
    "# We only need the core library, the Gemini LLM integration, and the embedding model library.\n",
    "!pip install llama-index llama-index-llms-gemini llama-index-embeddings-huggingface --quiet\n",
    "\n",
    "print(\"✅ Necessary libraries for the Gemini API setup have been installed.\")"
   ]
  },
  {
   "cell_type": "code",
   "execution_count": 6,
   "id": "05d4b370",
   "metadata": {},
   "outputs": [
    {
     "name": "stderr",
     "output_type": "stream",
     "text": [
      "'apt-get' is not recognized as an internal or external command,\n",
      "operable program or batch file.\n"
     ]
    },
    {
     "name": "stdout",
     "output_type": "stream",
     "text": [
      "Collecting python-magic\n",
      "  Downloading python_magic-0.4.27-py2.py3-none-any.whl.metadata (5.8 kB)\n",
      "Requirement already satisfied: requests in c:\\users\\gagan\\anaconda3\\envs\\policy_env\\lib\\site-packages (2.32.4)\n",
      "Requirement already satisfied: charset_normalizer<4,>=2 in c:\\users\\gagan\\anaconda3\\envs\\policy_env\\lib\\site-packages (from requests) (3.4.2)\n",
      "Requirement already satisfied: idna<4,>=2.5 in c:\\users\\gagan\\anaconda3\\envs\\policy_env\\lib\\site-packages (from requests) (3.10)\n",
      "Requirement already satisfied: urllib3<3,>=1.21.1 in c:\\users\\gagan\\anaconda3\\envs\\policy_env\\lib\\site-packages (from requests) (2.5.0)\n",
      "Requirement already satisfied: certifi>=2017.4.17 in c:\\users\\gagan\\anaconda3\\envs\\policy_env\\lib\\site-packages (from requests) (2025.7.14)\n",
      "Downloading python_magic-0.4.27-py2.py3-none-any.whl (13 kB)\n",
      "Installing collected packages: python-magic\n",
      "Successfully installed python-magic-0.4.27\n",
      "Note: you may need to restart the kernel to use updated packages.\n"
     ]
    }
   ],
   "source": [
    "# Step 1: Install the underlying C library (libmagic)\n",
    "!apt-get install -y libmagic1\n",
    "\n",
    "# Step 2: Install the Python wrapper\n",
    "%pip install python-magic requests"
   ]
  },
  {
   "cell_type": "code",
   "execution_count": null,
   "id": "ca861a42",
   "metadata": {},
   "outputs": [],
   "source": []
  }
 ],
 "metadata": {
  "kernelspec": {
   "display_name": "policy_env",
   "language": "python",
   "name": "python3"
  },
  "language_info": {
   "codemirror_mode": {
    "name": "ipython",
    "version": 3
   },
   "file_extension": ".py",
   "mimetype": "text/x-python",
   "name": "python",
   "nbconvert_exporter": "python",
   "pygments_lexer": "ipython3",
   "version": "3.9.23"
  }
 },
 "nbformat": 4,
 "nbformat_minor": 5
}
